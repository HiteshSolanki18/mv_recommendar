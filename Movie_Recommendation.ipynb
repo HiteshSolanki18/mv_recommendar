{
  "cells": [
    {
      "cell_type": "markdown",
      "metadata": {
        "id": "q5GTfF7QIw_t"
      },
      "source": [
        "## Import Dependencies"
      ]
    },
    {
      "cell_type": "code",
      "execution_count": 1,
      "metadata": {
        "id": "r8bqpUJrIpU-"
      },
      "outputs": [],
      "source": [
        "# import required Libraries\n",
        "import pandas as pd\n",
        "import numpy as np\n",
        "import seaborn as sns\n",
        "import matplotlib.pyplot as plt"
      ]
    },
    {
      "cell_type": "code",
      "execution_count": 2,
      "metadata": {
        "colab": {
          "base_uri": "https://localhost:8080/",
          "height": 367
        },
        "id": "Xf4rBzHwJAnG",
        "outputId": "5ac846b7-ac6a-4367-c9c6-8ad301b3e7ff"
      },
      "outputs": [
        {
          "output_type": "execute_result",
          "data": {
            "text/plain": [
              "  Release_Date                    Title  \\\n",
              "0   2021-12-15  Spider-Man: No Way Home   \n",
              "1   2022-03-01               The Batman   \n",
              "\n",
              "                                            Overview  Popularity  Vote_Count  \\\n",
              "0  Peter Parker is unmasked and no longer able to...    5083.954        8940   \n",
              "1  In his second year of fighting crime, Batman u...    3827.658        1151   \n",
              "\n",
              "   Vote_Average Original_Language                               Genre  \\\n",
              "0           8.3                en  Action, Adventure, Science Fiction   \n",
              "1           8.1                en            Crime, Mystery, Thriller   \n",
              "\n",
              "                                          Poster_Url  \n",
              "0  https://image.tmdb.org/t/p/original/1g0dhYtq4i...  \n",
              "1  https://image.tmdb.org/t/p/original/74xTEgt7R3...  "
            ],
            "text/html": [
              "\n",
              "  <div id=\"df-d29c6bec-ad37-4412-ad94-ee159281e178\">\n",
              "    <div class=\"colab-df-container\">\n",
              "      <div>\n",
              "<style scoped>\n",
              "    .dataframe tbody tr th:only-of-type {\n",
              "        vertical-align: middle;\n",
              "    }\n",
              "\n",
              "    .dataframe tbody tr th {\n",
              "        vertical-align: top;\n",
              "    }\n",
              "\n",
              "    .dataframe thead th {\n",
              "        text-align: right;\n",
              "    }\n",
              "</style>\n",
              "<table border=\"1\" class=\"dataframe\">\n",
              "  <thead>\n",
              "    <tr style=\"text-align: right;\">\n",
              "      <th></th>\n",
              "      <th>Release_Date</th>\n",
              "      <th>Title</th>\n",
              "      <th>Overview</th>\n",
              "      <th>Popularity</th>\n",
              "      <th>Vote_Count</th>\n",
              "      <th>Vote_Average</th>\n",
              "      <th>Original_Language</th>\n",
              "      <th>Genre</th>\n",
              "      <th>Poster_Url</th>\n",
              "    </tr>\n",
              "  </thead>\n",
              "  <tbody>\n",
              "    <tr>\n",
              "      <th>0</th>\n",
              "      <td>2021-12-15</td>\n",
              "      <td>Spider-Man: No Way Home</td>\n",
              "      <td>Peter Parker is unmasked and no longer able to...</td>\n",
              "      <td>5083.954</td>\n",
              "      <td>8940</td>\n",
              "      <td>8.3</td>\n",
              "      <td>en</td>\n",
              "      <td>Action, Adventure, Science Fiction</td>\n",
              "      <td>https://image.tmdb.org/t/p/original/1g0dhYtq4i...</td>\n",
              "    </tr>\n",
              "    <tr>\n",
              "      <th>1</th>\n",
              "      <td>2022-03-01</td>\n",
              "      <td>The Batman</td>\n",
              "      <td>In his second year of fighting crime, Batman u...</td>\n",
              "      <td>3827.658</td>\n",
              "      <td>1151</td>\n",
              "      <td>8.1</td>\n",
              "      <td>en</td>\n",
              "      <td>Crime, Mystery, Thriller</td>\n",
              "      <td>https://image.tmdb.org/t/p/original/74xTEgt7R3...</td>\n",
              "    </tr>\n",
              "  </tbody>\n",
              "</table>\n",
              "</div>\n",
              "      <button class=\"colab-df-convert\" onclick=\"convertToInteractive('df-d29c6bec-ad37-4412-ad94-ee159281e178')\"\n",
              "              title=\"Convert this dataframe to an interactive table.\"\n",
              "              style=\"display:none;\">\n",
              "        \n",
              "  <svg xmlns=\"http://www.w3.org/2000/svg\" height=\"24px\"viewBox=\"0 0 24 24\"\n",
              "       width=\"24px\">\n",
              "    <path d=\"M0 0h24v24H0V0z\" fill=\"none\"/>\n",
              "    <path d=\"M18.56 5.44l.94 2.06.94-2.06 2.06-.94-2.06-.94-.94-2.06-.94 2.06-2.06.94zm-11 1L8.5 8.5l.94-2.06 2.06-.94-2.06-.94L8.5 2.5l-.94 2.06-2.06.94zm10 10l.94 2.06.94-2.06 2.06-.94-2.06-.94-.94-2.06-.94 2.06-2.06.94z\"/><path d=\"M17.41 7.96l-1.37-1.37c-.4-.4-.92-.59-1.43-.59-.52 0-1.04.2-1.43.59L10.3 9.45l-7.72 7.72c-.78.78-.78 2.05 0 2.83L4 21.41c.39.39.9.59 1.41.59.51 0 1.02-.2 1.41-.59l7.78-7.78 2.81-2.81c.8-.78.8-2.07 0-2.86zM5.41 20L4 18.59l7.72-7.72 1.47 1.35L5.41 20z\"/>\n",
              "  </svg>\n",
              "      </button>\n",
              "      \n",
              "  <style>\n",
              "    .colab-df-container {\n",
              "      display:flex;\n",
              "      flex-wrap:wrap;\n",
              "      gap: 12px;\n",
              "    }\n",
              "\n",
              "    .colab-df-convert {\n",
              "      background-color: #E8F0FE;\n",
              "      border: none;\n",
              "      border-radius: 50%;\n",
              "      cursor: pointer;\n",
              "      display: none;\n",
              "      fill: #1967D2;\n",
              "      height: 32px;\n",
              "      padding: 0 0 0 0;\n",
              "      width: 32px;\n",
              "    }\n",
              "\n",
              "    .colab-df-convert:hover {\n",
              "      background-color: #E2EBFA;\n",
              "      box-shadow: 0px 1px 2px rgba(60, 64, 67, 0.3), 0px 1px 3px 1px rgba(60, 64, 67, 0.15);\n",
              "      fill: #174EA6;\n",
              "    }\n",
              "\n",
              "    [theme=dark] .colab-df-convert {\n",
              "      background-color: #3B4455;\n",
              "      fill: #D2E3FC;\n",
              "    }\n",
              "\n",
              "    [theme=dark] .colab-df-convert:hover {\n",
              "      background-color: #434B5C;\n",
              "      box-shadow: 0px 1px 3px 1px rgba(0, 0, 0, 0.15);\n",
              "      filter: drop-shadow(0px 1px 2px rgba(0, 0, 0, 0.3));\n",
              "      fill: #FFFFFF;\n",
              "    }\n",
              "  </style>\n",
              "\n",
              "      <script>\n",
              "        const buttonEl =\n",
              "          document.querySelector('#df-d29c6bec-ad37-4412-ad94-ee159281e178 button.colab-df-convert');\n",
              "        buttonEl.style.display =\n",
              "          google.colab.kernel.accessAllowed ? 'block' : 'none';\n",
              "\n",
              "        async function convertToInteractive(key) {\n",
              "          const element = document.querySelector('#df-d29c6bec-ad37-4412-ad94-ee159281e178');\n",
              "          const dataTable =\n",
              "            await google.colab.kernel.invokeFunction('convertToInteractive',\n",
              "                                                     [key], {});\n",
              "          if (!dataTable) return;\n",
              "\n",
              "          const docLinkHtml = 'Like what you see? Visit the ' +\n",
              "            '<a target=\"_blank\" href=https://colab.research.google.com/notebooks/data_table.ipynb>data table notebook</a>'\n",
              "            + ' to learn more about interactive tables.';\n",
              "          element.innerHTML = '';\n",
              "          dataTable['output_type'] = 'display_data';\n",
              "          await google.colab.output.renderOutput(dataTable, element);\n",
              "          const docLink = document.createElement('div');\n",
              "          docLink.innerHTML = docLinkHtml;\n",
              "          element.appendChild(docLink);\n",
              "        }\n",
              "      </script>\n",
              "    </div>\n",
              "  </div>\n",
              "  "
            ]
          },
          "metadata": {},
          "execution_count": 2
        }
      ],
      "source": [
        "# load dataset\n",
        "df = pd.read_csv(\"/content/mymoviedb.csv\",lineterminator='\\n',parse_dates=['Release_Date'])\n",
        "df.head(2)"
      ]
    },
    {
      "cell_type": "code",
      "execution_count": 3,
      "metadata": {
        "colab": {
          "base_uri": "https://localhost:8080/"
        },
        "id": "pP9UNhEtJGa2",
        "outputId": "af4b3d9e-db6a-40e9-eb30-79590938c376"
      },
      "outputs": [
        {
          "output_type": "execute_result",
          "data": {
            "text/plain": [
              "(9827, 9)"
            ]
          },
          "metadata": {},
          "execution_count": 3
        }
      ],
      "source": [
        "# Check the shape of the dataset\n",
        "df.shape"
      ]
    },
    {
      "cell_type": "code",
      "execution_count": 4,
      "metadata": {
        "colab": {
          "base_uri": "https://localhost:8080/"
        },
        "id": "hT4BLjSpKLfN",
        "outputId": "8b0de394-01da-435b-92d3-ad5670825155"
      },
      "outputs": [
        {
          "output_type": "stream",
          "name": "stdout",
          "text": [
            "<class 'pandas.core.frame.DataFrame'>\n",
            "RangeIndex: 9827 entries, 0 to 9826\n",
            "Data columns (total 9 columns):\n",
            " #   Column             Non-Null Count  Dtype         \n",
            "---  ------             --------------  -----         \n",
            " 0   Release_Date       9827 non-null   datetime64[ns]\n",
            " 1   Title              9827 non-null   object        \n",
            " 2   Overview           9827 non-null   object        \n",
            " 3   Popularity         9827 non-null   float64       \n",
            " 4   Vote_Count         9827 non-null   int64         \n",
            " 5   Vote_Average       9827 non-null   float64       \n",
            " 6   Original_Language  9827 non-null   object        \n",
            " 7   Genre              9827 non-null   object        \n",
            " 8   Poster_Url         9827 non-null   object        \n",
            "dtypes: datetime64[ns](1), float64(2), int64(1), object(5)\n",
            "memory usage: 691.1+ KB\n"
          ]
        }
      ],
      "source": [
        "# Check the basic info of the dataset\n",
        "df.info()"
      ]
    },
    {
      "cell_type": "markdown",
      "metadata": {
        "id": "HExnF6BZLM3p"
      },
      "source": [
        "We are Only Going to Keep Below Columns for Our Recommendation System.\n",
        "\n",
        "\n",
        "\n",
        "1.   Title\n",
        "2.   Overview\n",
        "3.   Genre\n",
        "4.   Poster_Url\n",
        "\n",
        "\n",
        "\n"
      ]
    },
    {
      "cell_type": "code",
      "execution_count": 5,
      "metadata": {
        "colab": {
          "base_uri": "https://localhost:8080/",
          "height": 337
        },
        "id": "w9VEzNmCKeiI",
        "outputId": "8e9048b2-cd4f-4467-9199-06e580d951ba"
      },
      "outputs": [
        {
          "output_type": "execute_result",
          "data": {
            "text/plain": [
              "                     Title                                           Overview  \\\n",
              "0  Spider-Man: No Way Home  Peter Parker is unmasked and no longer able to...   \n",
              "1               The Batman  In his second year of fighting crime, Batman u...   \n",
              "2                  No Exit  Stranded at a rest stop in the mountains durin...   \n",
              "3                  Encanto  The tale of an extraordinary family, the Madri...   \n",
              "4           The King's Man  As a collection of history's worst tyrants and...   \n",
              "\n",
              "                                Genre  \\\n",
              "0  Action, Adventure, Science Fiction   \n",
              "1            Crime, Mystery, Thriller   \n",
              "2                            Thriller   \n",
              "3  Animation, Comedy, Family, Fantasy   \n",
              "4    Action, Adventure, Thriller, War   \n",
              "\n",
              "                                          Poster_Url  \n",
              "0  https://image.tmdb.org/t/p/original/1g0dhYtq4i...  \n",
              "1  https://image.tmdb.org/t/p/original/74xTEgt7R3...  \n",
              "2  https://image.tmdb.org/t/p/original/vDHsLnOWKl...  \n",
              "3  https://image.tmdb.org/t/p/original/4j0PNHkMr5...  \n",
              "4  https://image.tmdb.org/t/p/original/aq4Pwv5Xeu...  "
            ],
            "text/html": [
              "\n",
              "  <div id=\"df-b0f4840e-9d09-4788-b6e7-d0cfa64b22ef\">\n",
              "    <div class=\"colab-df-container\">\n",
              "      <div>\n",
              "<style scoped>\n",
              "    .dataframe tbody tr th:only-of-type {\n",
              "        vertical-align: middle;\n",
              "    }\n",
              "\n",
              "    .dataframe tbody tr th {\n",
              "        vertical-align: top;\n",
              "    }\n",
              "\n",
              "    .dataframe thead th {\n",
              "        text-align: right;\n",
              "    }\n",
              "</style>\n",
              "<table border=\"1\" class=\"dataframe\">\n",
              "  <thead>\n",
              "    <tr style=\"text-align: right;\">\n",
              "      <th></th>\n",
              "      <th>Title</th>\n",
              "      <th>Overview</th>\n",
              "      <th>Genre</th>\n",
              "      <th>Poster_Url</th>\n",
              "    </tr>\n",
              "  </thead>\n",
              "  <tbody>\n",
              "    <tr>\n",
              "      <th>0</th>\n",
              "      <td>Spider-Man: No Way Home</td>\n",
              "      <td>Peter Parker is unmasked and no longer able to...</td>\n",
              "      <td>Action, Adventure, Science Fiction</td>\n",
              "      <td>https://image.tmdb.org/t/p/original/1g0dhYtq4i...</td>\n",
              "    </tr>\n",
              "    <tr>\n",
              "      <th>1</th>\n",
              "      <td>The Batman</td>\n",
              "      <td>In his second year of fighting crime, Batman u...</td>\n",
              "      <td>Crime, Mystery, Thriller</td>\n",
              "      <td>https://image.tmdb.org/t/p/original/74xTEgt7R3...</td>\n",
              "    </tr>\n",
              "    <tr>\n",
              "      <th>2</th>\n",
              "      <td>No Exit</td>\n",
              "      <td>Stranded at a rest stop in the mountains durin...</td>\n",
              "      <td>Thriller</td>\n",
              "      <td>https://image.tmdb.org/t/p/original/vDHsLnOWKl...</td>\n",
              "    </tr>\n",
              "    <tr>\n",
              "      <th>3</th>\n",
              "      <td>Encanto</td>\n",
              "      <td>The tale of an extraordinary family, the Madri...</td>\n",
              "      <td>Animation, Comedy, Family, Fantasy</td>\n",
              "      <td>https://image.tmdb.org/t/p/original/4j0PNHkMr5...</td>\n",
              "    </tr>\n",
              "    <tr>\n",
              "      <th>4</th>\n",
              "      <td>The King's Man</td>\n",
              "      <td>As a collection of history's worst tyrants and...</td>\n",
              "      <td>Action, Adventure, Thriller, War</td>\n",
              "      <td>https://image.tmdb.org/t/p/original/aq4Pwv5Xeu...</td>\n",
              "    </tr>\n",
              "  </tbody>\n",
              "</table>\n",
              "</div>\n",
              "      <button class=\"colab-df-convert\" onclick=\"convertToInteractive('df-b0f4840e-9d09-4788-b6e7-d0cfa64b22ef')\"\n",
              "              title=\"Convert this dataframe to an interactive table.\"\n",
              "              style=\"display:none;\">\n",
              "        \n",
              "  <svg xmlns=\"http://www.w3.org/2000/svg\" height=\"24px\"viewBox=\"0 0 24 24\"\n",
              "       width=\"24px\">\n",
              "    <path d=\"M0 0h24v24H0V0z\" fill=\"none\"/>\n",
              "    <path d=\"M18.56 5.44l.94 2.06.94-2.06 2.06-.94-2.06-.94-.94-2.06-.94 2.06-2.06.94zm-11 1L8.5 8.5l.94-2.06 2.06-.94-2.06-.94L8.5 2.5l-.94 2.06-2.06.94zm10 10l.94 2.06.94-2.06 2.06-.94-2.06-.94-.94-2.06-.94 2.06-2.06.94z\"/><path d=\"M17.41 7.96l-1.37-1.37c-.4-.4-.92-.59-1.43-.59-.52 0-1.04.2-1.43.59L10.3 9.45l-7.72 7.72c-.78.78-.78 2.05 0 2.83L4 21.41c.39.39.9.59 1.41.59.51 0 1.02-.2 1.41-.59l7.78-7.78 2.81-2.81c.8-.78.8-2.07 0-2.86zM5.41 20L4 18.59l7.72-7.72 1.47 1.35L5.41 20z\"/>\n",
              "  </svg>\n",
              "      </button>\n",
              "      \n",
              "  <style>\n",
              "    .colab-df-container {\n",
              "      display:flex;\n",
              "      flex-wrap:wrap;\n",
              "      gap: 12px;\n",
              "    }\n",
              "\n",
              "    .colab-df-convert {\n",
              "      background-color: #E8F0FE;\n",
              "      border: none;\n",
              "      border-radius: 50%;\n",
              "      cursor: pointer;\n",
              "      display: none;\n",
              "      fill: #1967D2;\n",
              "      height: 32px;\n",
              "      padding: 0 0 0 0;\n",
              "      width: 32px;\n",
              "    }\n",
              "\n",
              "    .colab-df-convert:hover {\n",
              "      background-color: #E2EBFA;\n",
              "      box-shadow: 0px 1px 2px rgba(60, 64, 67, 0.3), 0px 1px 3px 1px rgba(60, 64, 67, 0.15);\n",
              "      fill: #174EA6;\n",
              "    }\n",
              "\n",
              "    [theme=dark] .colab-df-convert {\n",
              "      background-color: #3B4455;\n",
              "      fill: #D2E3FC;\n",
              "    }\n",
              "\n",
              "    [theme=dark] .colab-df-convert:hover {\n",
              "      background-color: #434B5C;\n",
              "      box-shadow: 0px 1px 3px 1px rgba(0, 0, 0, 0.15);\n",
              "      filter: drop-shadow(0px 1px 2px rgba(0, 0, 0, 0.3));\n",
              "      fill: #FFFFFF;\n",
              "    }\n",
              "  </style>\n",
              "\n",
              "      <script>\n",
              "        const buttonEl =\n",
              "          document.querySelector('#df-b0f4840e-9d09-4788-b6e7-d0cfa64b22ef button.colab-df-convert');\n",
              "        buttonEl.style.display =\n",
              "          google.colab.kernel.accessAllowed ? 'block' : 'none';\n",
              "\n",
              "        async function convertToInteractive(key) {\n",
              "          const element = document.querySelector('#df-b0f4840e-9d09-4788-b6e7-d0cfa64b22ef');\n",
              "          const dataTable =\n",
              "            await google.colab.kernel.invokeFunction('convertToInteractive',\n",
              "                                                     [key], {});\n",
              "          if (!dataTable) return;\n",
              "\n",
              "          const docLinkHtml = 'Like what you see? Visit the ' +\n",
              "            '<a target=\"_blank\" href=https://colab.research.google.com/notebooks/data_table.ipynb>data table notebook</a>'\n",
              "            + ' to learn more about interactive tables.';\n",
              "          element.innerHTML = '';\n",
              "          dataTable['output_type'] = 'display_data';\n",
              "          await google.colab.output.renderOutput(dataTable, element);\n",
              "          const docLink = document.createElement('div');\n",
              "          docLink.innerHTML = docLinkHtml;\n",
              "          element.appendChild(docLink);\n",
              "        }\n",
              "      </script>\n",
              "    </div>\n",
              "  </div>\n",
              "  "
            ]
          },
          "metadata": {},
          "execution_count": 5
        }
      ],
      "source": [
        "# Let's Drop Other Columns\n",
        "df = df[['Title','Overview','Genre','Poster_Url']]\n",
        "df.head()"
      ]
    },
    {
      "cell_type": "markdown",
      "metadata": {
        "id": "rkNW97aVN7dz"
      },
      "source": [
        "## Data Preprocessing"
      ]
    },
    {
      "cell_type": "code",
      "execution_count": 6,
      "metadata": {
        "colab": {
          "base_uri": "https://localhost:8080/",
          "height": 372
        },
        "id": "d64Z4EAbMH3a",
        "outputId": "395321bd-c16f-4982-e47f-a4cba5234060"
      },
      "outputs": [
        {
          "output_type": "execute_result",
          "data": {
            "text/plain": [
              "                     Title                                           Overview  \\\n",
              "0  Spider-Man: No Way Home  Peter Parker is unmasked and no longer able to...   \n",
              "1               The Batman  In his second year of fighting crime, Batman u...   \n",
              "2                  No Exit  Stranded at a rest stop in the mountains durin...   \n",
              "3                  Encanto  The tale of an extraordinary family, the Madri...   \n",
              "4           The King's Man  As a collection of history's worst tyrants and...   \n",
              "\n",
              "                                Genre  \\\n",
              "0  Action, Adventure, Science Fiction   \n",
              "1            Crime, Mystery, Thriller   \n",
              "2                            Thriller   \n",
              "3  Animation, Comedy, Family, Fantasy   \n",
              "4    Action, Adventure, Thriller, War   \n",
              "\n",
              "                                          Poster_Url  \\\n",
              "0  https://image.tmdb.org/t/p/original/1g0dhYtq4i...   \n",
              "1  https://image.tmdb.org/t/p/original/74xTEgt7R3...   \n",
              "2  https://image.tmdb.org/t/p/original/vDHsLnOWKl...   \n",
              "3  https://image.tmdb.org/t/p/original/4j0PNHkMr5...   \n",
              "4  https://image.tmdb.org/t/p/original/aq4Pwv5Xeu...   \n",
              "\n",
              "                                             Content  \n",
              "0  Peter Parker is unmasked and no longer able to...  \n",
              "1  In his second year of fighting crime, Batman u...  \n",
              "2  Stranded at a rest stop in the mountains durin...  \n",
              "3  The tale of an extraordinary family, the Madri...  \n",
              "4  As a collection of history's worst tyrants and...  "
            ],
            "text/html": [
              "\n",
              "  <div id=\"df-8dbb3182-fcc2-433d-a2dd-28b5a41094ee\">\n",
              "    <div class=\"colab-df-container\">\n",
              "      <div>\n",
              "<style scoped>\n",
              "    .dataframe tbody tr th:only-of-type {\n",
              "        vertical-align: middle;\n",
              "    }\n",
              "\n",
              "    .dataframe tbody tr th {\n",
              "        vertical-align: top;\n",
              "    }\n",
              "\n",
              "    .dataframe thead th {\n",
              "        text-align: right;\n",
              "    }\n",
              "</style>\n",
              "<table border=\"1\" class=\"dataframe\">\n",
              "  <thead>\n",
              "    <tr style=\"text-align: right;\">\n",
              "      <th></th>\n",
              "      <th>Title</th>\n",
              "      <th>Overview</th>\n",
              "      <th>Genre</th>\n",
              "      <th>Poster_Url</th>\n",
              "      <th>Content</th>\n",
              "    </tr>\n",
              "  </thead>\n",
              "  <tbody>\n",
              "    <tr>\n",
              "      <th>0</th>\n",
              "      <td>Spider-Man: No Way Home</td>\n",
              "      <td>Peter Parker is unmasked and no longer able to...</td>\n",
              "      <td>Action, Adventure, Science Fiction</td>\n",
              "      <td>https://image.tmdb.org/t/p/original/1g0dhYtq4i...</td>\n",
              "      <td>Peter Parker is unmasked and no longer able to...</td>\n",
              "    </tr>\n",
              "    <tr>\n",
              "      <th>1</th>\n",
              "      <td>The Batman</td>\n",
              "      <td>In his second year of fighting crime, Batman u...</td>\n",
              "      <td>Crime, Mystery, Thriller</td>\n",
              "      <td>https://image.tmdb.org/t/p/original/74xTEgt7R3...</td>\n",
              "      <td>In his second year of fighting crime, Batman u...</td>\n",
              "    </tr>\n",
              "    <tr>\n",
              "      <th>2</th>\n",
              "      <td>No Exit</td>\n",
              "      <td>Stranded at a rest stop in the mountains durin...</td>\n",
              "      <td>Thriller</td>\n",
              "      <td>https://image.tmdb.org/t/p/original/vDHsLnOWKl...</td>\n",
              "      <td>Stranded at a rest stop in the mountains durin...</td>\n",
              "    </tr>\n",
              "    <tr>\n",
              "      <th>3</th>\n",
              "      <td>Encanto</td>\n",
              "      <td>The tale of an extraordinary family, the Madri...</td>\n",
              "      <td>Animation, Comedy, Family, Fantasy</td>\n",
              "      <td>https://image.tmdb.org/t/p/original/4j0PNHkMr5...</td>\n",
              "      <td>The tale of an extraordinary family, the Madri...</td>\n",
              "    </tr>\n",
              "    <tr>\n",
              "      <th>4</th>\n",
              "      <td>The King's Man</td>\n",
              "      <td>As a collection of history's worst tyrants and...</td>\n",
              "      <td>Action, Adventure, Thriller, War</td>\n",
              "      <td>https://image.tmdb.org/t/p/original/aq4Pwv5Xeu...</td>\n",
              "      <td>As a collection of history's worst tyrants and...</td>\n",
              "    </tr>\n",
              "  </tbody>\n",
              "</table>\n",
              "</div>\n",
              "      <button class=\"colab-df-convert\" onclick=\"convertToInteractive('df-8dbb3182-fcc2-433d-a2dd-28b5a41094ee')\"\n",
              "              title=\"Convert this dataframe to an interactive table.\"\n",
              "              style=\"display:none;\">\n",
              "        \n",
              "  <svg xmlns=\"http://www.w3.org/2000/svg\" height=\"24px\"viewBox=\"0 0 24 24\"\n",
              "       width=\"24px\">\n",
              "    <path d=\"M0 0h24v24H0V0z\" fill=\"none\"/>\n",
              "    <path d=\"M18.56 5.44l.94 2.06.94-2.06 2.06-.94-2.06-.94-.94-2.06-.94 2.06-2.06.94zm-11 1L8.5 8.5l.94-2.06 2.06-.94-2.06-.94L8.5 2.5l-.94 2.06-2.06.94zm10 10l.94 2.06.94-2.06 2.06-.94-2.06-.94-.94-2.06-.94 2.06-2.06.94z\"/><path d=\"M17.41 7.96l-1.37-1.37c-.4-.4-.92-.59-1.43-.59-.52 0-1.04.2-1.43.59L10.3 9.45l-7.72 7.72c-.78.78-.78 2.05 0 2.83L4 21.41c.39.39.9.59 1.41.59.51 0 1.02-.2 1.41-.59l7.78-7.78 2.81-2.81c.8-.78.8-2.07 0-2.86zM5.41 20L4 18.59l7.72-7.72 1.47 1.35L5.41 20z\"/>\n",
              "  </svg>\n",
              "      </button>\n",
              "      \n",
              "  <style>\n",
              "    .colab-df-container {\n",
              "      display:flex;\n",
              "      flex-wrap:wrap;\n",
              "      gap: 12px;\n",
              "    }\n",
              "\n",
              "    .colab-df-convert {\n",
              "      background-color: #E8F0FE;\n",
              "      border: none;\n",
              "      border-radius: 50%;\n",
              "      cursor: pointer;\n",
              "      display: none;\n",
              "      fill: #1967D2;\n",
              "      height: 32px;\n",
              "      padding: 0 0 0 0;\n",
              "      width: 32px;\n",
              "    }\n",
              "\n",
              "    .colab-df-convert:hover {\n",
              "      background-color: #E2EBFA;\n",
              "      box-shadow: 0px 1px 2px rgba(60, 64, 67, 0.3), 0px 1px 3px 1px rgba(60, 64, 67, 0.15);\n",
              "      fill: #174EA6;\n",
              "    }\n",
              "\n",
              "    [theme=dark] .colab-df-convert {\n",
              "      background-color: #3B4455;\n",
              "      fill: #D2E3FC;\n",
              "    }\n",
              "\n",
              "    [theme=dark] .colab-df-convert:hover {\n",
              "      background-color: #434B5C;\n",
              "      box-shadow: 0px 1px 3px 1px rgba(0, 0, 0, 0.15);\n",
              "      filter: drop-shadow(0px 1px 2px rgba(0, 0, 0, 0.3));\n",
              "      fill: #FFFFFF;\n",
              "    }\n",
              "  </style>\n",
              "\n",
              "      <script>\n",
              "        const buttonEl =\n",
              "          document.querySelector('#df-8dbb3182-fcc2-433d-a2dd-28b5a41094ee button.colab-df-convert');\n",
              "        buttonEl.style.display =\n",
              "          google.colab.kernel.accessAllowed ? 'block' : 'none';\n",
              "\n",
              "        async function convertToInteractive(key) {\n",
              "          const element = document.querySelector('#df-8dbb3182-fcc2-433d-a2dd-28b5a41094ee');\n",
              "          const dataTable =\n",
              "            await google.colab.kernel.invokeFunction('convertToInteractive',\n",
              "                                                     [key], {});\n",
              "          if (!dataTable) return;\n",
              "\n",
              "          const docLinkHtml = 'Like what you see? Visit the ' +\n",
              "            '<a target=\"_blank\" href=https://colab.research.google.com/notebooks/data_table.ipynb>data table notebook</a>'\n",
              "            + ' to learn more about interactive tables.';\n",
              "          element.innerHTML = '';\n",
              "          dataTable['output_type'] = 'display_data';\n",
              "          await google.colab.output.renderOutput(dataTable, element);\n",
              "          const docLink = document.createElement('div');\n",
              "          docLink.innerHTML = docLinkHtml;\n",
              "          element.appendChild(docLink);\n",
              "        }\n",
              "      </script>\n",
              "    </div>\n",
              "  </div>\n",
              "  "
            ]
          },
          "metadata": {},
          "execution_count": 6
        }
      ],
      "source": [
        "# Let's Merge Overview and Genre Column and Create New Feature Content\n",
        "df['Content'] = df['Overview'] + df['Genre'] + df['Title']\n",
        "df.head()"
      ]
    },
    {
      "cell_type": "markdown",
      "metadata": {
        "id": "CQFA8XSkOP1w"
      },
      "source": [
        "Preprocessing of Content Column\n",
        "\n",
        "\n",
        "*   Convert into Lowercase\n",
        "*   Remove Punctuation\n",
        "*   Tokenization\n",
        "*   Stemming\n",
        "*   Remove Stopwords"
      ]
    },
    {
      "cell_type": "code",
      "execution_count": 7,
      "metadata": {
        "id": "tl1Z6ppBNcyP"
      },
      "outputs": [],
      "source": [
        "# Preprocessing of Content Column\n",
        "df['Content'] = df['Content'].str.lower()"
      ]
    },
    {
      "cell_type": "code",
      "execution_count": 8,
      "metadata": {
        "colab": {
          "base_uri": "https://localhost:8080/"
        },
        "id": "B04DiGzkRBDK",
        "outputId": "6c36e837-923b-4b4d-ecd0-cf0d024b3613"
      },
      "outputs": [
        {
          "output_type": "stream",
          "name": "stdout",
          "text": [
            "[nltk_data] Downloading package punkt to /root/nltk_data...\n",
            "[nltk_data]   Unzipping tokenizers/punkt.zip.\n",
            "[nltk_data] Downloading package stopwords to /root/nltk_data...\n",
            "[nltk_data]   Unzipping corpora/stopwords.zip.\n",
            "[nltk_data] Downloading package wordnet to /root/nltk_data...\n",
            "[nltk_data]   Unzipping corpora/wordnet.zip.\n"
          ]
        },
        {
          "output_type": "execute_result",
          "data": {
            "text/plain": [
              "True"
            ]
          },
          "metadata": {},
          "execution_count": 8
        }
      ],
      "source": [
        "# import required libraries\n",
        "import string\n",
        "import nltk\n",
        "from nltk.tokenize import word_tokenize\n",
        "from nltk.corpus import stopwords\n",
        "from nltk.stem import PorterStemmer,WordNetLemmatizer\n",
        "\n",
        "ps = PorterStemmer()\n",
        "ws = WordNetLemmatizer()\n",
        "\n",
        "nltk.download('punkt')\n",
        "nltk.download('stopwords')\n",
        "nltk.download('wordnet')"
      ]
    },
    {
      "cell_type": "code",
      "execution_count": 9,
      "metadata": {
        "id": "XrweS7cMPjyg"
      },
      "outputs": [],
      "source": [
        "# Function for Remove Punctuation and Stemming\n",
        "\n",
        "def preprocessing(text):\n",
        "  # Remove Punctuation\n",
        "  text = text.translate(text.maketrans('','',string.punctuation))\n",
        "  \n",
        "  # Tokenization of text\n",
        "  text = word_tokenize(text)\n",
        "\n",
        "  # stemming and Remove Stopwords from text\n",
        "  text = [ws.lemmatize(i) for i in text if i not in stopwords.words('english')]\n",
        "\n",
        "  return \" \".join(text)"
      ]
    },
    {
      "cell_type": "code",
      "execution_count": 10,
      "metadata": {
        "id": "sIlKbh8jQXPi"
      },
      "outputs": [],
      "source": [
        "# Preprocessing of Content Columns\n",
        "df['Content'] = df['Content'].apply(preprocessing)"
      ]
    },
    {
      "cell_type": "markdown",
      "metadata": {
        "id": "JUd9td1SVAic"
      },
      "source": [
        "## Now, Let's Do Text Vectorization"
      ]
    },
    {
      "cell_type": "code",
      "execution_count": 41,
      "metadata": {
        "id": "21XN3LFSQp9f"
      },
      "outputs": [],
      "source": [
        "# import libraries\n",
        "from sklearn.feature_extraction.text import CountVectorizer,TfidfVectorizer\n",
        "\n",
        "# object of bag of words\n",
        "cv = CountVectorizer(max_features=5000)"
      ]
    },
    {
      "cell_type": "code",
      "execution_count": 42,
      "metadata": {
        "id": "12Tos-YkVj13",
        "colab": {
          "base_uri": "https://localhost:8080/"
        },
        "outputId": "ebb32445-09ba-4a6c-b59d-8deadf438794"
      },
      "outputs": [
        {
          "output_type": "execute_result",
          "data": {
            "text/plain": [
              "(9827, 5000)"
            ]
          },
          "metadata": {},
          "execution_count": 42
        }
      ],
      "source": [
        "# text vectorization using bag of words\n",
        "content_vectors = cv.fit_transform(df['Content']).toarray()\n",
        "content_vectors.shape"
      ]
    },
    {
      "cell_type": "code",
      "execution_count": 43,
      "metadata": {
        "id": "vr0junsiV3Gy"
      },
      "outputs": [],
      "source": [
        "# Let's Calculate Similarity Between All Vectors using Cosine Similarity\n",
        "from sklearn.metrics.pairwise import cosine_similarity\n",
        "\n",
        "# create object of cosine similarity\n",
        "cd = cosine_similarity(content_vectors)"
      ]
    },
    {
      "cell_type": "code",
      "source": [
        "# Function for recommend 5 Similar Movies\n",
        "def recommend(movie_title):\n",
        "  movie_index = df[df['Title']==movie_title].index[0]\n",
        "  movie_similarity = cd[movie_index]\n",
        "\n",
        "  movie_list = sorted(list(enumerate(movie_similarity)),reverse=True,key=lambda x:x[1])[1:6]\n",
        "\n",
        "  for i in movie_list:\n",
        "    print(df.loc[i[0],'Title'])\n",
        "\n",
        "recommend(\"The King's Man\")"
      ],
      "metadata": {
        "colab": {
          "base_uri": "https://localhost:8080/"
        },
        "id": "UQMeRfb7m6HL",
        "outputId": "f5beda1a-583f-478a-f418-fe2c8ca27a4e"
      },
      "execution_count": 49,
      "outputs": [
        {
          "output_type": "stream",
          "name": "stdout",
          "text": [
            "Papillon\n",
            "Kill Me Three Times\n",
            "The Man with One Red Shoe\n",
            "Raped by an Angel\n",
            "The Other Man\n"
          ]
        }
      ]
    }
  ],
  "metadata": {
    "colab": {
      "name": "Movie Recommendation.ipynb",
      "provenance": [],
      "collapsed_sections": []
    },
    "kernelspec": {
      "display_name": "Python 3",
      "name": "python3"
    },
    "language_info": {
      "name": "python"
    }
  },
  "nbformat": 4,
  "nbformat_minor": 0
}